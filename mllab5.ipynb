{
  "nbformat": 4,
  "nbformat_minor": 0,
  "metadata": {
    "colab": {
      "name": "2147157_MCA473BCAT1.ipynb",
      "provenance": [],
      "collapsed_sections": []
    },
    "kernelspec": {
      "name": "python3",
      "display_name": "Python 3"
    },
    "language_info": {
      "name": "python"
    }
  },
  "cells": [
    {
      "cell_type": "code",
      "execution_count": 48,
      "metadata": {
        "colab": {
          "base_uri": "https://localhost:8080/"
        },
        "id": "Ln7mUxLaCBMe",
        "outputId": "0173b482-ab60-4df5-bfd2-b8f5e38afda7"
      },
      "outputs": [
        {
          "output_type": "stream",
          "name": "stderr",
          "text": [
            "[nltk_data] Downloading package stopwords to /root/nltk_data...\n",
            "[nltk_data]   Package stopwords is already up-to-date!\n",
            "[nltk_data] Downloading package punkt to /root/nltk_data...\n",
            "[nltk_data]   Package punkt is already up-to-date!\n"
          ]
        }
      ],
      "source": [
        "#1\n",
        "import nltk\n",
        "import pandas as pd\n",
        "import seaborn as sns\n",
        "import matplotlib.pyplot as plt\n",
        "\n",
        "nltk.download('stopwords')\n",
        "nltk.download('punkt')\n",
        "from nltk.corpus import stopwords\n",
        "from nltk.tokenize import word_tokenize\n",
        "from nltk.probability import FreqDist\n",
        "from nltk.tokenize import sent_tokenize\n"
      ]
    },
    {
      "cell_type": "code",
      "source": [
        "Text = \"\"\"In 1940, Ferrari produced a race car – the Tipo 815, based on a Fiat platform. It was the first\n",
        "Ferrari car and debuted at the 1940 Mille, but due to World War II it saw little competition. In 1943,\n",
        "the Ferrari factory moved to Maranello, where it has remained ever since.\"\"\"\n"
      ],
      "metadata": {
        "id": "QvLIcNcnDwN8"
      },
      "execution_count": 49,
      "outputs": []
    },
    {
      "cell_type": "code",
      "source": [
        "print(\"sentence tokenizer\") #generating sentence tokenizer\n",
        "print(sent_tokenize(Text));"
      ],
      "metadata": {
        "colab": {
          "base_uri": "https://localhost:8080/"
        },
        "id": "jOLo5FB8GITY",
        "outputId": "d4eb6e0d-d1ca-4d4a-a114-9708a28731a3"
      },
      "execution_count": 11,
      "outputs": [
        {
          "output_type": "stream",
          "name": "stdout",
          "text": [
            "sentence tokenizer\n",
            "['In 1940, Ferrari produced a race car – the Tipo 815, based on a Fiat platform.', 'It was the first\\nFerrari car and debuted at the 1940 Mille, but due to World War II it saw little competition.', 'In 1943,\\nthe Ferrari factory moved to Maranello, where it has remained ever since.']\n"
          ]
        }
      ]
    },
    {
      "cell_type": "code",
      "source": [
        "print(\"word tokenizer\") # generating word tokenizer\n",
        "print(word_tokenize(Text));"
      ],
      "metadata": {
        "colab": {
          "base_uri": "https://localhost:8080/"
        },
        "id": "hGAwH7zKGksp",
        "outputId": "c02b0461-ed7c-442f-a133-99d2a43ac74e"
      },
      "execution_count": 13,
      "outputs": [
        {
          "output_type": "stream",
          "name": "stdout",
          "text": [
            "word tokenizer\n",
            "['In', '1940', ',', 'Ferrari', 'produced', 'a', 'race', 'car', '–', 'the', 'Tipo', '815', ',', 'based', 'on', 'a', 'Fiat', 'platform', '.', 'It', 'was', 'the', 'first', 'Ferrari', 'car', 'and', 'debuted', 'at', 'the', '1940', 'Mille', ',', 'but', 'due', 'to', 'World', 'War', 'II', 'it', 'saw', 'little', 'competition', '.', 'In', '1943', ',', 'the', 'Ferrari', 'factory', 'moved', 'to', 'Maranello', ',', 'where', 'it', 'has', 'remained', 'ever', 'since', '.']\n"
          ]
        }
      ]
    },
    {
      "cell_type": "code",
      "source": [
        "#displaying the sentence after removing stop words\n",
        "stop_words = set(stopwords.words('english'))\n",
        "word_tokens = word_tokenize(Text)\n",
        "filtered_sentence = [w for w in word_tokens if not w in stop_words]\n",
        "filtered_sentence = []\n",
        "\n",
        "for w in word_tokens:\n",
        "    if w not in stop_words:\n",
        "        filtered_sentence.append(w)\n",
        "\n",
        "print(filtered_sentence) "
      ],
      "metadata": {
        "colab": {
          "base_uri": "https://localhost:8080/"
        },
        "id": "Lhut-zuIG-QO",
        "outputId": "2bbc5b33-229b-4709-d01a-022375b3afdf"
      },
      "execution_count": 17,
      "outputs": [
        {
          "output_type": "stream",
          "name": "stdout",
          "text": [
            "['In', '1940', ',', 'Ferrari', 'produced', 'race', 'car', '–', 'Tipo', '815', ',', 'based', 'Fiat', 'platform', '.', 'It', 'first', 'Ferrari', 'car', 'debuted', '1940', 'Mille', ',', 'due', 'World', 'War', 'II', 'saw', 'little', 'competition', '.', 'In', '1943', ',', 'Ferrari', 'factory', 'moved', 'Maranello', ',', 'remained', 'ever', 'since', '.']\n"
          ]
        }
      ]
    },
    {
      "cell_type": "code",
      "source": [
        "#displaying the sentence after removing the punctuation marks\n",
        "from nltk.tokenize import RegexpTokenizer\n",
        "tokenizer = RegexpTokenizer(r'\\w+')\n",
        "tokenizer.tokenize(Text)\n"
      ],
      "metadata": {
        "colab": {
          "base_uri": "https://localhost:8080/"
        },
        "id": "1A9Qxh9dIgs2",
        "outputId": "f37fa2c8-a9b2-4ff0-ed17-7fbbcada0f12"
      },
      "execution_count": 20,
      "outputs": [
        {
          "output_type": "execute_result",
          "data": {
            "text/plain": [
              "['In',\n",
              " '1940',\n",
              " 'Ferrari',\n",
              " 'produced',\n",
              " 'a',\n",
              " 'race',\n",
              " 'car',\n",
              " 'the',\n",
              " 'Tipo',\n",
              " '815',\n",
              " 'based',\n",
              " 'on',\n",
              " 'a',\n",
              " 'Fiat',\n",
              " 'platform',\n",
              " 'It',\n",
              " 'was',\n",
              " 'the',\n",
              " 'first',\n",
              " 'Ferrari',\n",
              " 'car',\n",
              " 'and',\n",
              " 'debuted',\n",
              " 'at',\n",
              " 'the',\n",
              " '1940',\n",
              " 'Mille',\n",
              " 'but',\n",
              " 'due',\n",
              " 'to',\n",
              " 'World',\n",
              " 'War',\n",
              " 'II',\n",
              " 'it',\n",
              " 'saw',\n",
              " 'little',\n",
              " 'competition',\n",
              " 'In',\n",
              " '1943',\n",
              " 'the',\n",
              " 'Ferrari',\n",
              " 'factory',\n",
              " 'moved',\n",
              " 'to',\n",
              " 'Maranello',\n",
              " 'where',\n",
              " 'it',\n",
              " 'has',\n",
              " 'remained',\n",
              " 'ever',\n",
              " 'since']"
            ]
          },
          "metadata": {},
          "execution_count": 20
        }
      ]
    },
    {
      "cell_type": "code",
      "source": [
        "import nltk\n",
        "nltk.download('wordnet')\n",
        "nltk.download('omw-1.4')"
      ],
      "metadata": {
        "colab": {
          "base_uri": "https://localhost:8080/"
        },
        "id": "MpW_KSbTLINS",
        "outputId": "31c09941-e266-44d2-9d90-2bd2a6b1caf1"
      },
      "execution_count": 28,
      "outputs": [
        {
          "output_type": "stream",
          "name": "stderr",
          "text": [
            "[nltk_data] Downloading package wordnet to /root/nltk_data...\n",
            "[nltk_data]   Package wordnet is already up-to-date!\n",
            "[nltk_data] Downloading package omw-1.4 to /root/nltk_data...\n",
            "[nltk_data]   Package omw-1.4 is already up-to-date!\n"
          ]
        },
        {
          "output_type": "execute_result",
          "data": {
            "text/plain": [
              "True"
            ]
          },
          "metadata": {},
          "execution_count": 28
        }
      ]
    },
    {
      "cell_type": "code",
      "source": [
        "#removed punctuation for cleaned tokens\n",
        "import string \n",
        "nltk.download('wordnet') \n",
        "nltk.download('omw-1.4')\n",
        "from nltk.corpus import wordnet     \n",
        "\n",
        "text=\"In 1940, Ferrari produced a race car – the Tipo 815, based on a Fiat platform. It was the first Ferrari car and debuted at the 1940 Mille, but due to World War II it saw little competition. In 1943,the Ferrari factory moved to Maranello, where it has remained ever since.\"\n",
        "print(\"\\noriginal text :  \\n\",text)\n",
        "print(\"\\n\")\n",
        "\n",
        "def punctuation_remove(text): \n",
        "    # Appending non punctuated words\n",
        "    punctuation =\"\".join([t for t in text if t not in string.punctuation])  \n",
        "    return punctuation\n",
        "  \n",
        "# Passing input to the function\n",
        "punctuation_removed = punctuation_remove(\"In 1940, Ferrari produced a race car – the Tipo 815, based on a Fiat platform. It was the first Ferrari car and debuted at the 1940 Mille, but due to World War II it saw little competition. In 1943,the Ferrari factory moved to Maranello, where it has remained ever since.\") \n",
        "print(\" text after elminating punctuation :\\n\")\n",
        "print(punctuation_removed)\n",
        "print(\"\\nword tokenizing\")\n",
        "print(word_tokenize(text))\n",
        "print(\"\\n *********antonyms and synonyms ***********\\n\")\n",
        "\n",
        "syn = list()\n",
        "ant = list()\n",
        "for synset in wordnet.synsets(\"produced\"):\n",
        "   for lemma in synset.lemmas():\n",
        "      syn.append(lemma.name())    \n",
        "      if lemma.antonyms():    \n",
        "        ant.append(lemma.antonyms()[0].name())\n",
        "print(\"word: 1.produced\")\n",
        "print('Synonyms: ' + str(syn))\n",
        "print('Antonyms: ' + str(ant))\n"
      ],
      "metadata": {
        "colab": {
          "base_uri": "https://localhost:8080/"
        },
        "id": "K7M8LEE4LsaK",
        "outputId": "2230fb23-68d1-4b7e-9e43-2b659f34caed"
      },
      "execution_count": 31,
      "outputs": [
        {
          "output_type": "stream",
          "name": "stdout",
          "text": [
            "\n",
            "original text :  \n",
            " In 1940, Ferrari produced a race car – the Tipo 815, based on a Fiat platform. It was the first Ferrari car and debuted at the 1940 Mille, but due to World War II it saw little competition. In 1943,the Ferrari factory moved to Maranello, where it has remained ever since.\n",
            "\n",
            "\n",
            " text after elminating punctuation :\n",
            "\n",
            "In 1940 Ferrari produced a race car – the Tipo 815 based on a Fiat platform It was the first Ferrari car and debuted at the 1940 Mille but due to World War II it saw little competition In 1943the Ferrari factory moved to Maranello where it has remained ever since\n",
            "\n",
            "word tokenizing\n",
            "['In', '1940', ',', 'Ferrari', 'produced', 'a', 'race', 'car', '–', 'the', 'Tipo', '815', ',', 'based', 'on', 'a', 'Fiat', 'platform', '.', 'It', 'was', 'the', 'first', 'Ferrari', 'car', 'and', 'debuted', 'at', 'the', '1940', 'Mille', ',', 'but', 'due', 'to', 'World', 'War', 'II', 'it', 'saw', 'little', 'competition', '.', 'In', '1943', ',', 'the', 'Ferrari', 'factory', 'moved', 'to', 'Maranello', ',', 'where', 'it', 'has', 'remained', 'ever', 'since', '.']\n",
            "\n",
            " *********antonyms and synonyms ***********\n",
            "\n",
            "word: 1.produced\n",
            "Synonyms: ['produce', 'bring_forth', 'produce', 'make', 'create', 'produce', 'bring_about', 'give_rise', 'produce', 'bring_forth', 'grow', 'raise', 'farm', 'produce', 'produce', 'bring_on', 'bring_out', 'grow', 'develop', 'produce', 'get', 'acquire']\n",
            "Antonyms: []\n"
          ]
        },
        {
          "output_type": "stream",
          "name": "stderr",
          "text": [
            "[nltk_data] Downloading package wordnet to /root/nltk_data...\n",
            "[nltk_data]   Package wordnet is already up-to-date!\n",
            "[nltk_data] Downloading package omw-1.4 to /root/nltk_data...\n",
            "[nltk_data]   Package omw-1.4 is already up-to-date!\n"
          ]
        }
      ]
    },
    {
      "cell_type": "code",
      "source": [
        "syn = list()\n",
        "ant = list()\n",
        "for synset in wordnet.synsets(\"produced\"):\n",
        "   for lemma in synset.lemmas():\n",
        "      syn.append(lemma.name())    \n",
        "      if lemma.antonyms():    \n",
        "        ant.append(lemma.antonyms()[0].name())\n",
        "print(\"word:2.first\")\n",
        "print('Synonyms: ' + str(syn))\n",
        "print('Antonyms: ' + str(ant))"
      ],
      "metadata": {
        "colab": {
          "base_uri": "https://localhost:8080/"
        },
        "id": "mA1Pgo3SOHPA",
        "outputId": "464f44d7-f01d-4cc3-f11b-4f5fa3dc955a"
      },
      "execution_count": 33,
      "outputs": [
        {
          "output_type": "stream",
          "name": "stdout",
          "text": [
            "word:2.first\n",
            "Synonyms: ['produce', 'bring_forth', 'produce', 'make', 'create', 'produce', 'bring_about', 'give_rise', 'produce', 'bring_forth', 'grow', 'raise', 'farm', 'produce', 'produce', 'bring_on', 'bring_out', 'grow', 'develop', 'produce', 'get', 'acquire']\n",
            "Antonyms: []\n"
          ]
        }
      ]
    },
    {
      "cell_type": "code",
      "source": [
        "syn = list()\n",
        "ant = list()\n",
        "for synset in wordnet.synsets(\"make\"):\n",
        "   for lemma in synset.lemmas():\n",
        "      syn.append(lemma.name())    \n",
        "      if lemma.antonyms():    \n",
        "        ant.append(lemma.antonyms()[0].name())\n",
        "print(\"word:2.first\")\n",
        "print('Synonyms: ' + str(syn))\n",
        "print('Antonyms: ' + str(ant))"
      ],
      "metadata": {
        "colab": {
          "base_uri": "https://localhost:8080/"
        },
        "id": "SWPg5XopOM7-",
        "outputId": "1e9f9b5c-5b1a-4b8d-9363-d31c82b8632f"
      },
      "execution_count": 35,
      "outputs": [
        {
          "output_type": "stream",
          "name": "stdout",
          "text": [
            "word:2.first\n",
            "Synonyms: ['brand', 'make', 'shuffle', 'shuffling', 'make', 'make', 'do', 'make', 'get', 'make', 'create', 'induce', 'stimulate', 'cause', 'have', 'get', 'make', 'cause', 'do', 'make', 'produce', 'make', 'create', 'draw', 'make', 'make', 'create', 'make', 'gain', 'take_in', 'clear', 'make', 'earn', 'realize', 'realise', 'pull_in', 'bring_in', 'do', 'make', 'form', 'constitute', 'make', 'reach', 'make', 'get_to', 'progress_to', 'make', 'make', 'make', 'construct', 'build', 'make', 'make', 'make', 'name', 'nominate', 'make', 'have', 'get', 'make', 'reach', 'make', 'attain', 'hit', 'arrive_at', 'gain', 'lay_down', 'establish', 'make', 'make', 'make', 'hold', 'throw', 'have', 'make', 'give', 'make', 'make_up', 'take', 'make', 'stool', 'defecate', 'shit', 'take_a_shit', 'take_a_crap', 'ca-ca', 'crap', 'make', 'make', 'make', 'make', 'make', 'make', 'make', 'make', 'work', 'make', 'make', 'cook', 'fix', 'ready', 'make', 'prepare', 'seduce', 'score', 'make', 'make', 'make', 'pretend', 'make_believe', 'make', 'make', 'make', 'make', 'make', 'make', 'make', 'urinate', 'piddle', 'puddle', 'micturate', 'piss', 'pee', 'pee-pee', 'make_water', 'relieve_oneself', 'take_a_leak', 'spend_a_penny', 'wee', 'wee-wee', 'pass_water']\n",
            "Antonyms: ['unmake', 'break']\n"
          ]
        }
      ]
    },
    {
      "cell_type": "code",
      "source": [
        "syn = list()\n",
        "ant = list()\n",
        "for synset in wordnet.synsets(\"race\"):\n",
        "   for lemma in synset.lemmas():\n",
        "      syn.append(lemma.name())    \n",
        "      if lemma.antonyms():    \n",
        "        ant.append(lemma.antonyms()[0].name())\n",
        "print(\"word:2.first\")\n",
        "print('Synonyms: ' + str(syn))\n",
        "print('Antonyms: ' + str(ant))"
      ],
      "metadata": {
        "colab": {
          "base_uri": "https://localhost:8080/"
        },
        "id": "DtuQB_6MOTK_",
        "outputId": "e9d3ef9f-2d21-45fa-9af6-ea9c26053560"
      },
      "execution_count": 37,
      "outputs": [
        {
          "output_type": "stream",
          "name": "stdout",
          "text": [
            "word:2.first\n",
            "Synonyms: ['race', 'race', 'race', 'subspecies', 'race', 'slipstream', 'airstream', 'race', 'backwash', 'wash', 'raceway', 'race', 'rush', 'hotfoot', 'hasten', 'hie', 'speed', 'race', 'pelt_along', 'rush_along', 'cannonball_along', 'bucket_along', 'belt_along', 'step_on_it', 'race', 'run', 'race', 'race', 'rush']\n",
            "Antonyms: ['linger']\n"
          ]
        }
      ]
    },
    {
      "cell_type": "code",
      "source": [
        "syn = list()\n",
        "ant = list()\n",
        "for synset in wordnet.synsets(\"moved\"):\n",
        "   for lemma in synset.lemmas():\n",
        "      syn.append(lemma.name())    \n",
        "      if lemma.antonyms():    \n",
        "        ant.append(lemma.antonyms()[0].name())\n",
        "print(\"word:2.first\")\n",
        "print('Synonyms: ' + str(syn))\n",
        "print('Antonyms: ' + str(ant))"
      ],
      "metadata": {
        "colab": {
          "base_uri": "https://localhost:8080/"
        },
        "id": "gZz-n_t8OZ9s",
        "outputId": "31e57b14-b8cf-4f6f-d6fa-86ce055afd51"
      },
      "execution_count": 42,
      "outputs": [
        {
          "output_type": "stream",
          "name": "stdout",
          "text": [
            "word:2.first\n",
            "Synonyms: ['travel', 'go', 'move', 'locomote', 'move', 'displace', 'move', 'move', 'go', 'proceed', 'move', 'be_active', 'move', 'move', 'act', 'move', 'affect', 'impress', 'move', 'strike', 'motivate', 'actuate', 'propel', 'move', 'prompt', 'incite', 'move', 'move', 'move', 'go', 'run', 'move', 'move', 'go', 'move', 'make_a_motion', 'moved', 'affected', 'stirred', 'touched']\n",
            "Antonyms: ['stay_in_place', 'stand_still', 'stay', 'rest', 'refrain', 'unmoved']\n"
          ]
        }
      ]
    },
    {
      "cell_type": "code",
      "source": [
        "syn = list()\n",
        "ant = list()\n",
        "for synset in wordnet.synsets(\"remain\"):\n",
        "   for lemma in synset.lemmas():\n",
        "      syn.append(lemma.name())    \n",
        "      if lemma.antonyms():    \n",
        "        ant.append(lemma.antonyms()[0].name())\n",
        "print(\"word:2.first\")\n",
        "print('Synonyms: ' + str(syn))\n",
        "print('Antonyms: ' + str(ant))"
      ],
      "metadata": {
        "colab": {
          "base_uri": "https://localhost:8080/"
        },
        "id": "ug0aPF06O0Sr",
        "outputId": "ef7a44b8-d0aa-4abd-dc85-df1be73a2131"
      },
      "execution_count": 44,
      "outputs": [
        {
          "output_type": "stream",
          "name": "stdout",
          "text": [
            "word:2.first\n",
            "Synonyms: ['stay', 'remain', 'rest', 'stay', 'stay_on', 'continue', 'remain', 'remain', 'persist', 'remain', 'stay']\n",
            "Antonyms: ['change']\n"
          ]
        }
      ]
    },
    {
      "cell_type": "code",
      "source": [
        "syn = list()\n",
        "ant = list()\n",
        "for synset in wordnet.synsets(\"last\"):\n",
        "   for lemma in synset.lemmas():\n",
        "      syn.append(lemma.name())    \n",
        "      if lemma.antonyms():    \n",
        "        ant.append(lemma.antonyms()[0].name())\n",
        "print(\"word:2.first\")\n",
        "print('Synonyms: ' + str(syn))\n",
        "print('Antonyms: ' + str(ant))"
      ],
      "metadata": {
        "colab": {
          "base_uri": "https://localhost:8080/"
        },
        "id": "pGZJLj0CO7Bn",
        "outputId": "2d5fc748-20ce-40a1-f331-0a268c291ac3"
      },
      "execution_count": 46,
      "outputs": [
        {
          "output_type": "stream",
          "name": "stdout",
          "text": [
            "word:2.first\n",
            "Synonyms: ['stopping_point', 'finale', 'finis', 'finish', 'last', 'conclusion', 'close', 'last', 'last', 'death', 'last', 'last', 'last', 'end', 'last', 'final_stage', 'last', \"shoemaker's_last\", \"cobbler's_last\", 'last', 'endure', 'survive', 'last', 'live', 'live_on', 'go', 'endure', 'hold_up', 'hold_out', 'last', 'last', 'concluding', 'final', 'last', 'terminal', 'last', 'last', 'final', 'last', 'net', 'last', 'utmost', 'final', 'last', 'last', 'last-place', 'lowest', 'last', 'last', 'lastly', 'in_conclusion', 'finally']\n",
            "Antonyms: ['first']\n"
          ]
        }
      ]
    },
    {
      "cell_type": "code",
      "source": [
        "#2\n",
        "#count of words after filtering the sentences\n",
        "#conditional frequency distributions based on the category\n",
        "# displaying the statistics\n",
        "\n",
        "wordfreq = []\n",
        "for w in filtered_sentence:\n",
        "    wordfreq.append(filtered_sentence.count(w))\n",
        "\n",
        "print(filtered_sentence, wordfreq)\n",
        "\n",
        "for i in filtered_sentence:\n",
        " print(i, '-----', wordfreq[filtered_sentence.index(i)])\n",
        "\n",
        "all_fdist = pd.Series(wordfreq)\n",
        "\n",
        "fig, ax = plt.subplots(figsize=(30,10))\n",
        "all_plot = sns.barplot(x=filtered_sentence, y=all_fdist.values, ax=ax)\n",
        "plt.xticks(rotation=50);"
      ],
      "metadata": {
        "colab": {
          "base_uri": "https://localhost:8080/",
          "height": 1000
        },
        "id": "lnekMWEsPJHa",
        "outputId": "88fcc3ea-90fa-40be-8112-7ae65c9aaf39"
      },
      "execution_count": 50,
      "outputs": [
        {
          "output_type": "stream",
          "name": "stdout",
          "text": [
            "['In', '1940', ',', 'Ferrari', 'produced', 'race', 'car', '–', 'Tipo', '815', ',', 'based', 'Fiat', 'platform', '.', 'It', 'first', 'Ferrari', 'car', 'debuted', '1940', 'Mille', ',', 'due', 'World', 'War', 'II', 'saw', 'little', 'competition', '.', 'In', '1943', ',', 'Ferrari', 'factory', 'moved', 'Maranello', ',', 'remained', 'ever', 'since', '.'] [2, 2, 5, 3, 1, 1, 2, 1, 1, 1, 5, 1, 1, 1, 3, 1, 1, 3, 2, 1, 2, 1, 5, 1, 1, 1, 1, 1, 1, 1, 3, 2, 1, 5, 3, 1, 1, 1, 5, 1, 1, 1, 3]\n",
            "In ----- 2\n",
            "1940 ----- 2\n",
            ", ----- 5\n",
            "Ferrari ----- 3\n",
            "produced ----- 1\n",
            "race ----- 1\n",
            "car ----- 2\n",
            "– ----- 1\n",
            "Tipo ----- 1\n",
            "815 ----- 1\n",
            ", ----- 5\n",
            "based ----- 1\n",
            "Fiat ----- 1\n",
            "platform ----- 1\n",
            ". ----- 3\n",
            "It ----- 1\n",
            "first ----- 1\n",
            "Ferrari ----- 3\n",
            "car ----- 2\n",
            "debuted ----- 1\n",
            "1940 ----- 2\n",
            "Mille ----- 1\n",
            ", ----- 5\n",
            "due ----- 1\n",
            "World ----- 1\n",
            "War ----- 1\n",
            "II ----- 1\n",
            "saw ----- 1\n",
            "little ----- 1\n",
            "competition ----- 1\n",
            ". ----- 3\n",
            "In ----- 2\n",
            "1943 ----- 1\n",
            ", ----- 5\n",
            "Ferrari ----- 3\n",
            "factory ----- 1\n",
            "moved ----- 1\n",
            "Maranello ----- 1\n",
            ", ----- 5\n",
            "remained ----- 1\n",
            "ever ----- 1\n",
            "since ----- 1\n",
            ". ----- 3\n"
          ]
        },
        {
          "output_type": "display_data",
          "data": {
            "text/plain": [
              "<Figure size 2160x720 with 1 Axes>"
            ],
            "image/png": "[encoded data removed]"
          },
          "metadata": {
            "needs_background": "light"
          }
        }
      ]
    },
    {
      "cell_type": "code",
      "source": [
        "#2\n",
        "import nltk.corpus\n",
        "from nltk.probability import ConditionalFreqDist\n",
        "from nltk.tokenize import word_tokenize\n",
        "# Create a reference variable for Class SExprTokenizer\n",
        "tk = ConditionalFreqDist()\n",
        "     \n",
        "# Create a string input\n",
        "summary = \"Each corpus reader provides a variety of methods to read data from the corpus, depending on the format of the corpus. For example, plaintext corpora support methods to read the corpus as raw text, a list of words, a list of sentences, or a list of paragraphs.\"\n",
        "     \n",
        "for word in word_tokenize(summary):\n",
        "   condition = len(word)\n",
        "   tk[condition][word] += 1\n",
        "     \n",
        "print(tk)\n"
      ],
      "metadata": {
        "colab": {
          "base_uri": "https://localhost:8080/"
        },
        "id": "tXiBaboNSAo2",
        "outputId": "525af2f0-e97c-40ce-eb41-7d72cc3b41d6"
      },
      "execution_count": 56,
      "outputs": [
        {
          "output_type": "stream",
          "name": "stdout",
          "text": [
            "<ConditionalFreqDist with 10 conditions>\n"
          ]
        }
      ]
    },
    {
      "cell_type": "code",
      "source": [
        "#4 senses\n",
        "from nltk.corpus import wordnet\n",
        "\n",
        "\n",
        "from nltk.corpus import wordnet as wn"
      ],
      "metadata": {
        "id": "E6n5nXYTWJNw"
      },
      "execution_count": 58,
      "outputs": []
    },
    {
      "cell_type": "code",
      "source": [
        "print(wn.synset('sense.n.01').definition()) # synset = WORD.POS.NN #NN — a sense key\n",
        "print(\"\\n\")\n",
        "print(wn.synset('run.v.01').definition())"
      ],
      "metadata": {
        "colab": {
          "base_uri": "https://localhost:8080/"
        },
        "id": "QICxkw6nWkCo",
        "outputId": "60feab3b-b22d-4198-c07d-b21ad8269a63"
      },
      "execution_count": 63,
      "outputs": [
        {
          "output_type": "stream",
          "name": "stdout",
          "text": [
            "a general conscious awareness\n",
            "\n",
            "\n",
            "move fast by using one's feet, with one foot off the ground at any given time\n"
          ]
        }
      ]
    },
    {
      "cell_type": "code",
      "source": [
        "synonyms = [] #synonyms\n",
        "antonyms = [] \n",
        "  \n",
        "for syn in wn.synsets(\"good\"): \n",
        "    for l in syn.lemmas(): \n",
        "        synonyms.append(l.name()) \n",
        "        if l.antonyms(): \n",
        "            antonyms.append(l.antonyms()[0].name()) \n",
        "  \n",
        "print(set(synonyms)) \n",
        "print(\"\\n\")\n",
        "print(set(antonyms)) "
      ],
      "metadata": {
        "colab": {
          "base_uri": "https://localhost:8080/"
        },
        "id": "nI3uO87iXE_P",
        "outputId": "8719268d-746c-4324-d47e-d0421ba06011"
      },
      "execution_count": 65,
      "outputs": [
        {
          "output_type": "stream",
          "name": "stdout",
          "text": [
            "{'secure', 'beneficial', 'estimable', 'near', 'unspoiled', 'in_force', 'honest', 'safe', 'just', 'commodity', 'good', 'undecomposed', 'upright', 'full', 'adept', 'expert', 'ripe', 'salutary', 'skillful', 'unspoilt', 'serious', 'effective', 'right', 'goodness', 'proficient', 'soundly', 'skilful', 'dependable', 'well', 'respectable', 'practiced', 'honorable', 'in_effect', 'dear', 'thoroughly', 'sound', 'trade_good'}\n",
            "\n",
            "\n",
            "{'ill', 'evil', 'evilness', 'bad', 'badness'}\n"
          ]
        }
      ]
    },
    {
      "cell_type": "code",
      "source": [
        "tree = wn.synset('tree.n.01') #Meronyms- components of relationship and \n",
        "print('\\n')\n",
        "print(tree.substance_meronyms())"
      ],
      "metadata": {
        "colab": {
          "base_uri": "https://localhost:8080/"
        },
        "id": "1jJxQdg4XYM8",
        "outputId": "dbd0eb7a-10e5-4a65-d033-82087d5d3447"
      },
      "execution_count": 67,
      "outputs": [
        {
          "output_type": "stream",
          "name": "stdout",
          "text": [
            "[Synset('burl.n.02'), Synset('crown.n.07'), Synset('limb.n.02'), Synset('stump.n.01'), Synset('trunk.n.01')]\n",
            "\n",
            "\n",
            "[Synset('heartwood.n.01'), Synset('sapwood.n.01')]\n"
          ]
        }
      ]
    },
    {
      "cell_type": "code",
      "source": [
        "#Holonyms- membership of relationship\n",
        " \n",
        "print(tree.part_meronyms())\n",
        "print(wn.synset('land.n.01').part_holonyms())\n",
        "print('\\n')\n",
        "print(wn.synset('water.n.01').substance_holonyms())"
      ],
      "metadata": {
        "colab": {
          "base_uri": "https://localhost:8080/"
        },
        "id": "xDRdese6Xu2q",
        "outputId": "598ff833-87d2-415e-e903-965195c1b754"
      },
      "execution_count": 75,
      "outputs": [
        {
          "output_type": "stream",
          "name": "stdout",
          "text": [
            "[Synset('burl.n.02'), Synset('crown.n.07'), Synset('limb.n.02'), Synset('stump.n.01'), Synset('trunk.n.01')]\n",
            "[]\n",
            "\n",
            "\n",
            "[Synset('body_of_water.n.01'), Synset('ice.n.01'), Synset('ice_crystal.n.01'), Synset('perspiration.n.01'), Synset('snowflake.n.01'), Synset('tear.n.01')]\n"
          ]
        }
      ]
    },
    {
      "cell_type": "code",
      "source": [
        "#3\n",
        "#4 foreign languages\n",
        "import nltk\n",
        "import nltk.data\n",
        "nltk.download('stopwords')\n",
        "\n",
        "from nltk.corpus import stopwords\n",
        "from nltk.tokenize import word_tokenize\n",
        "from nltk.tokenize import sent_tokenize\n",
        "etext=\" hello,this is sweta? don't run there!hunger games.\"\n",
        "\n",
        "\n",
        "tokenize_spanish = nltk.data.load('tokenizers/punkt/PY3/french.pickle') #french\n",
        "S_text = \"bonjour, sweta? ne cours pas là-bas ! jeux de la faim\"\n",
        "s_tokenizer=sent_tokenize(S_text)\n",
        "w_tokenizer=word_tokenize(S_text)\n",
        "print(\"word tokenized\")\n",
        "print(w_tokenizer)\n",
        "print(\"sentence tokenized\")\n",
        "print(s_tokenizer)"
      ],
      "metadata": {
        "colab": {
          "base_uri": "https://localhost:8080/"
        },
        "id": "FsKEB06CaeGs",
        "outputId": "ced0499f-83c4-4858-ce71-4b5d41c3e73f"
      },
      "execution_count": 78,
      "outputs": [
        {
          "output_type": "stream",
          "name": "stdout",
          "text": [
            "word tokenized\n",
            "['bonjour', ',', 'sweta', '?', 'ne', 'cours', 'pas', 'là-bas', '!', 'jeux', 'de', 'la', 'faim']\n",
            "sentence tokenized\n",
            "['bonjour, sweta?', 'ne cours pas là-bas\\xa0!', 'jeux de la faim']\n"
          ]
        },
        {
          "output_type": "stream",
          "name": "stderr",
          "text": [
            "[nltk_data] Downloading package stopwords to /root/nltk_data...\n",
            "[nltk_data]   Package stopwords is already up-to-date!\n"
          ]
        }
      ]
    },
    {
      "cell_type": "code",
      "source": [
        ""
      ],
      "metadata": {
        "id": "4OAJJgBEarif"
      },
      "execution_count": null,
      "outputs": []
    }
  ]
}